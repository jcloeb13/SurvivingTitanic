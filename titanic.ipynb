{
 "cells": [
  {
   "cell_type": "markdown",
   "metadata": {},
   "source": [
    "# KAGGLE TITANIC COMPETITION\n"
   ]
  },
  {
   "cell_type": "markdown",
   "metadata": {},
   "source": [
    "As we want to classify each passengers either as surivived(1) or not(0), it seems we have an example of logistic regression.\n",
    "We have different columns on our data that might need to be transformed to fit our model.\n",
    "\n",
    "It seems that in the name we can get some information about the title of the person(Mr, Ms, Dr, etc...). This could be useful to extract this information.\n",
    "\n",
    "\n",
    "Embarked is the Port of Embarkation \t\n",
    "C = Cherbourg, Q = Queenstown, S = Southampton\n",
    "We can imagine that according to where you embark you have maybe different skills that we allowed you to survive or not\n",
    "\n",
    "pclass is the Ticket class \t\n",
    "1 = 1st, 2 = 2nd, 3 = 3rd\n",
    "\n",
    "sibsp is the number of siblings / spouses aboard the Titanic\n",
    "\n",
    "parch is the number of parents / children aboard the Titanic\n",
    "\n",
    "I don't think in a first time that the ticket number is important as it does not give us indication where the passenger is located. In a first time i will not this feature.\n"
   ]
  },
  {
   "cell_type": "code",
   "execution_count": 1,
   "metadata": {},
   "outputs": [],
   "source": [
    "import pandas as pd\n",
    "import numpy as np\n",
    "import os\n",
    "import re\n",
    "\n",
    "os.getcwd()\n",
    "Xtrain=pd.read_csv('train.csv')\n",
    "ytrain=Xtrain[['PassengerId','Survived']]\n",
    "ytrain=ytrain.set_index(['PassengerId'])\n",
    "\n",
    "Xtest=pd.read_csv('test.csv')"
   ]
  },
  {
   "cell_type": "markdown",
   "metadata": {},
   "source": [
    "## Analysing of some of the fields"
   ]
  },
  {
   "cell_type": "code",
   "execution_count": 2,
   "metadata": {},
   "outputs": [
    {
     "data": {
      "text/plain": [
       "PassengerId      0\n",
       "Survived         0\n",
       "Pclass           0\n",
       "Name             0\n",
       "Sex              0\n",
       "Age            177\n",
       "SibSp            0\n",
       "Parch            0\n",
       "Ticket           0\n",
       "Fare             0\n",
       "Cabin          687\n",
       "Embarked         2\n",
       "dtype: int64"
      ]
     },
     "execution_count": 2,
     "metadata": {},
     "output_type": "execute_result"
    }
   ],
   "source": [
    "Xtrain.isnull().sum()"
   ]
  },
  {
   "cell_type": "code",
   "execution_count": 3,
   "metadata": {},
   "outputs": [
    {
     "data": {
      "text/plain": [
       "PassengerId      0\n",
       "Pclass           0\n",
       "Name             0\n",
       "Sex              0\n",
       "Age             86\n",
       "SibSp            0\n",
       "Parch            0\n",
       "Ticket           0\n",
       "Fare             1\n",
       "Cabin          327\n",
       "Embarked         0\n",
       "dtype: int64"
      ]
     },
     "execution_count": 3,
     "metadata": {},
     "output_type": "execute_result"
    }
   ],
   "source": [
    "Xtest.isnull().sum()"
   ]
  },
  {
   "cell_type": "markdown",
   "metadata": {},
   "source": [
    "We can see that mainly the age and cabin is missing.For the fare as only one is missing in the test set we will fill it by the mean of the fares for the class of this person.\n",
    "Let's check now what are the different factors that migh play a rold in the survival of the person."
   ]
  },
  {
   "cell_type": "code",
   "execution_count": 4,
   "metadata": {},
   "outputs": [
    {
     "data": {
      "text/plain": [
       "<matplotlib.axes._subplots.AxesSubplot at 0x20d68b3b400>"
      ]
     },
     "execution_count": 4,
     "metadata": {},
     "output_type": "execute_result"
    }
   ],
   "source": [
    "import seaborn as sns\n",
    "import matplotlib.pyplot as plt\n",
    "#Show value counts for two categorical variables\n",
    "sns.countplot(x='Sex', hue='Survived', data=Xtrain)"
   ]
  },
  {
   "cell_type": "code",
   "execution_count": 5,
   "metadata": {},
   "outputs": [
    {
     "data": {
      "text/plain": [
       "<matplotlib.axes._subplots.AxesSubplot at 0x20d68e47a58>"
      ]
     },
     "execution_count": 5,
     "metadata": {},
     "output_type": "execute_result"
    },
    {
     "data": {
      "image/png": "[encoded data removed]",
      "text/plain": [
       "<Figure size 432x288 with 1 Axes>"
      ]
     },
     "metadata": {
      "needs_background": "light"
     },
     "output_type": "display_data"
    }
   ],
   "source": [
    "sns.countplot(x='Embarked', hue='Survived', data=Xtrain)\n"
   ]
  },
  {
   "cell_type": "code",
   "execution_count": 6,
   "metadata": {},
   "outputs": [
    {
     "data": {
      "text/plain": [
       "<matplotlib.axes._subplots.AxesSubplot at 0x20d69fe75f8>"
      ]
     },
     "execution_count": 6,
     "metadata": {},
     "output_type": "execute_result"
    },
    {
     "data": {
      "image/png": "[encoded data removed]",
      "text/plain": [
       "<Figure size 432x288 with 1 Axes>"
      ]
     },
     "metadata": {
      "needs_background": "light"
     },
     "output_type": "display_data"
    }
   ],
   "source": [
    "sns.countplot(x='Pclass', hue='Survived', data=Xtrain)\n"
   ]
  },
  {
   "cell_type": "code",
   "execution_count": 7,
   "metadata": {},
   "outputs": [
    {
     "data": {
      "text/plain": [
       "<matplotlib.axes._subplots.AxesSubplot at 0x20d6a0623c8>"
      ]
     },
     "execution_count": 7,
     "metadata": {},
     "output_type": "execute_result"
    },
    {
     "data": {
      "image/png": "[encoded data removed]",
      "text/plain": [
       "<Figure size 432x288 with 1 Axes>"
      ]
     },
     "metadata": {
      "needs_background": "light"
     },
     "output_type": "display_data"
    }
   ],
   "source": [
    "sns.countplot(x='SibSp', hue='Survived', data=Xtrain)"
   ]
  },
  {
   "cell_type": "code",
   "execution_count": 8,
   "metadata": {},
   "outputs": [
    {
     "data": {
      "text/plain": [
       "<matplotlib.axes._subplots.AxesSubplot at 0x20d6a10bc18>"
      ]
     },
     "execution_count": 8,
     "metadata": {},
     "output_type": "execute_result"
    },
    {
     "data": {
      "image/png": "[encoded data removed]",
      "text/plain": [
       "<Figure size 432x288 with 1 Axes>"
      ]
     },
     "metadata": {
      "needs_background": "light"
     },
     "output_type": "display_data"
    }
   ],
   "source": [
    "sns.countplot(x='Parch', hue='Survived', data=Xtrain)"
   ]
  },
  {
   "cell_type": "code",
   "execution_count": 9,
   "metadata": {},
   "outputs": [
    {
     "data": {
      "image/png": "[encoded data removed]",
      "text/plain": [
       "<Figure size 1152x864 with 1 Axes>"
      ]
     },
     "metadata": {
      "needs_background": "light"
     },
     "output_type": "display_data"
    }
   ],
   "source": [
    "plt.figure(figsize=(16,12))\n",
    "sns.countplot(x=pd.qcut(Xtrain['Age'],10), hue='Survived', data=Xtrain)\n",
    "plt.show()"
   ]
  },
  {
   "cell_type": "code",
   "execution_count": 10,
   "metadata": {},
   "outputs": [
    {
     "data": {
      "image/png": "[encoded data removed]",
      "text/plain": [
       "<Figure size 1152x864 with 1 Axes>"
      ]
     },
     "metadata": {
      "needs_background": "light"
     },
     "output_type": "display_data"
    }
   ],
   "source": [
    "#Qcut cuts into bin according to the distribution\n",
    "plt.figure(figsize=(16,12))\n",
    "FareBins=pd.qcut(Xtrain['Fare'],6)\n",
    "sns.countplot(x=pd.qcut(Xtrain['Fare'],6), hue='Survived', data=Xtrain)\n",
    "plt.show()"
   ]
  },
  {
   "cell_type": "code",
   "execution_count": 11,
   "metadata": {},
   "outputs": [
    {
     "data": {
      "image/png": "[encoded data removed]",
      "text/plain": [
       "<Figure size 1152x864 with 1 Axes>"
      ]
     },
     "metadata": {
      "needs_background": "light"
     },
     "output_type": "display_data"
    }
   ],
   "source": [
    "#Get the title from the name and fill the NA from the age according to this title\n",
    "plt.figure(figsize=(16,12))\n",
    "titles=Xtrain['Name'].apply(lambda x: re.split('. ',re.split(', ',x)[1])[0]).replace({ 'Jonkheer' : 'Rest', 'th' : 'Rest', 'Capt' : 'Rest','Don': 'Rest', 'Lady': 'Rest', 'Mlle': 'Rest', 'Major': 'Rest', 'Sir': 'Rest','Dona': 'Mrs','Ms': 'Miss','Mme': 'Miss'})\n",
    "sns.countplot(x=titles, hue='Survived', data=Xtrain)\n",
    "plt.show()"
   ]
  },
  {
   "cell_type": "code",
   "execution_count": 12,
   "metadata": {},
   "outputs": [
    {
     "data": {
      "image/png": "[encoded data removed]",
      "text/plain": [
       "<Figure size 1152x864 with 1 Axes>"
      ]
     },
     "metadata": {
      "needs_background": "light"
     },
     "output_type": "display_data"
    }
   ],
   "source": [
    "#Get the title from the name and fill the NA from the age according to this title\n",
    "plt.figure(figsize=(16,12))\n",
    "titles=Xtest['Name'].apply(lambda x: re.split('. ',re.split(', ',x)[1])[0]).replace({ 'Jonkheer' : 'Rest', 'th' : 'Rest', 'Capt' : 'Rest','Don': 'Rest', 'Lady': 'Rest', 'Mlle': 'Rest', 'Major': 'Rest', 'Sir': 'Rest','Dona': 'Mrs','Ms': 'Miss'})\n",
    "sns.countplot(x=titles, data=Xtest)\n",
    "plt.show()\n",
    "\n",
    "#'Major' 'Sir'"
   ]
  },
  {
   "cell_type": "code",
   "execution_count": 13,
   "metadata": {},
   "outputs": [
    {
     "data": {
      "image/png": "[encoded data removed]",
      "text/plain": [
       "<Figure size 1152x864 with 1 Axes>"
      ]
     },
     "metadata": {
      "needs_background": "light"
     },
     "output_type": "display_data"
    }
   ],
   "source": [
    "#Get the Cabin initial from the CAbin\n",
    "plt.figure(figsize=(16,12))\n",
    "CabinInitial=Xtrain['Cabin'].apply(lambda x: x[0] if pd.notnull(x) else x)\n",
    "\n",
    "sns.countplot(x=CabinInitial, hue='Survived', data=Xtrain)\n",
    "plt.show()"
   ]
  },
  {
   "cell_type": "code",
   "execution_count": 14,
   "metadata": {},
   "outputs": [
    {
     "data": {
      "text/html": [
       "<div>\n",
       "<style scoped>\n",
       "    .dataframe tbody tr th:only-of-type {\n",
       "        vertical-align: middle;\n",
       "    }\n",
       "\n",
       "    .dataframe tbody tr th {\n",
       "        vertical-align: top;\n",
       "    }\n",
       "\n",
       "    .dataframe thead th {\n",
       "        text-align: right;\n",
       "    }\n",
       "</style>\n",
       "<table border=\"1\" class=\"dataframe\">\n",
       "  <thead>\n",
       "    <tr style=\"text-align: right;\">\n",
       "      <th></th>\n",
       "      <th>Survived</th>\n",
       "      <th>Pclass</th>\n",
       "      <th>Age</th>\n",
       "      <th>SibSp</th>\n",
       "      <th>Parch</th>\n",
       "      <th>Fare</th>\n",
       "    </tr>\n",
       "  </thead>\n",
       "  <tbody>\n",
       "    <tr>\n",
       "      <td>Survived</td>\n",
       "      <td>1.000000</td>\n",
       "      <td>-0.338481</td>\n",
       "      <td>-0.077221</td>\n",
       "      <td>-0.035322</td>\n",
       "      <td>0.081629</td>\n",
       "      <td>0.257307</td>\n",
       "    </tr>\n",
       "    <tr>\n",
       "      <td>Pclass</td>\n",
       "      <td>-0.338481</td>\n",
       "      <td>1.000000</td>\n",
       "      <td>-0.369226</td>\n",
       "      <td>0.083081</td>\n",
       "      <td>0.018443</td>\n",
       "      <td>-0.549500</td>\n",
       "    </tr>\n",
       "    <tr>\n",
       "      <td>Age</td>\n",
       "      <td>-0.077221</td>\n",
       "      <td>-0.369226</td>\n",
       "      <td>1.000000</td>\n",
       "      <td>-0.308247</td>\n",
       "      <td>-0.189119</td>\n",
       "      <td>0.096067</td>\n",
       "    </tr>\n",
       "    <tr>\n",
       "      <td>SibSp</td>\n",
       "      <td>-0.035322</td>\n",
       "      <td>0.083081</td>\n",
       "      <td>-0.308247</td>\n",
       "      <td>1.000000</td>\n",
       "      <td>0.414838</td>\n",
       "      <td>0.159651</td>\n",
       "    </tr>\n",
       "    <tr>\n",
       "      <td>Parch</td>\n",
       "      <td>0.081629</td>\n",
       "      <td>0.018443</td>\n",
       "      <td>-0.189119</td>\n",
       "      <td>0.414838</td>\n",
       "      <td>1.000000</td>\n",
       "      <td>0.216225</td>\n",
       "    </tr>\n",
       "    <tr>\n",
       "      <td>Fare</td>\n",
       "      <td>0.257307</td>\n",
       "      <td>-0.549500</td>\n",
       "      <td>0.096067</td>\n",
       "      <td>0.159651</td>\n",
       "      <td>0.216225</td>\n",
       "      <td>1.000000</td>\n",
       "    </tr>\n",
       "  </tbody>\n",
       "</table>\n",
       "</div>"
      ],
      "text/plain": [
       "          Survived    Pclass       Age     SibSp     Parch      Fare\n",
       "Survived  1.000000 -0.338481 -0.077221 -0.035322  0.081629  0.257307\n",
       "Pclass   -0.338481  1.000000 -0.369226  0.083081  0.018443 -0.549500\n",
       "Age      -0.077221 -0.369226  1.000000 -0.308247 -0.189119  0.096067\n",
       "SibSp    -0.035322  0.083081 -0.308247  1.000000  0.414838  0.159651\n",
       "Parch     0.081629  0.018443 -0.189119  0.414838  1.000000  0.216225\n",
       "Fare      0.257307 -0.549500  0.096067  0.159651  0.216225  1.000000"
      ]
     },
     "execution_count": 14,
     "metadata": {},
     "output_type": "execute_result"
    }
   ],
   "source": [
    "Xtrain.iloc[:,1:].corr(method ='pearson')"
   ]
  },
  {
   "cell_type": "markdown",
   "metadata": {},
   "source": [
    "### Conclusion of the analyzys\n",
    "It seems that the most important criterions are the sex, the class(which is correlated to the fare), the age.\n",
    "But the age is partially incomplete, we will do then a linear model in order to estimate the age of the missing values. For this model we will parse the name in order to get the title of the person."
   ]
  },
  {
   "cell_type": "markdown",
   "metadata": {},
   "source": [
    "## Fill the NAN values and get rid of the unnecessary data"
   ]
  },
  {
   "cell_type": "code",
   "execution_count": 15,
   "metadata": {},
   "outputs": [
    {
     "data": {
      "text/html": [
       "<div>\n",
       "<style scoped>\n",
       "    .dataframe tbody tr th:only-of-type {\n",
       "        vertical-align: middle;\n",
       "    }\n",
       "\n",
       "    .dataframe tbody tr th {\n",
       "        vertical-align: top;\n",
       "    }\n",
       "\n",
       "    .dataframe thead th {\n",
       "        text-align: right;\n",
       "    }\n",
       "</style>\n",
       "<table border=\"1\" class=\"dataframe\">\n",
       "  <thead>\n",
       "    <tr style=\"text-align: right;\">\n",
       "      <th></th>\n",
       "      <th>PassengerId</th>\n",
       "      <th>Survived</th>\n",
       "      <th>Pclass</th>\n",
       "      <th>Name</th>\n",
       "      <th>Sex</th>\n",
       "      <th>Age</th>\n",
       "      <th>SibSp</th>\n",
       "      <th>Parch</th>\n",
       "      <th>Ticket</th>\n",
       "      <th>Fare</th>\n",
       "      <th>Cabin</th>\n",
       "      <th>Embarked</th>\n",
       "    </tr>\n",
       "  </thead>\n",
       "  <tbody>\n",
       "    <tr>\n",
       "      <td>61</td>\n",
       "      <td>62</td>\n",
       "      <td>1</td>\n",
       "      <td>1</td>\n",
       "      <td>Icard, Miss. Amelie</td>\n",
       "      <td>female</td>\n",
       "      <td>38.0</td>\n",
       "      <td>0</td>\n",
       "      <td>0</td>\n",
       "      <td>113572</td>\n",
       "      <td>80.0</td>\n",
       "      <td>B28</td>\n",
       "      <td>NaN</td>\n",
       "    </tr>\n",
       "    <tr>\n",
       "      <td>829</td>\n",
       "      <td>830</td>\n",
       "      <td>1</td>\n",
       "      <td>1</td>\n",
       "      <td>Stone, Mrs. George Nelson (Martha Evelyn)</td>\n",
       "      <td>female</td>\n",
       "      <td>62.0</td>\n",
       "      <td>0</td>\n",
       "      <td>0</td>\n",
       "      <td>113572</td>\n",
       "      <td>80.0</td>\n",
       "      <td>B28</td>\n",
       "      <td>NaN</td>\n",
       "    </tr>\n",
       "  </tbody>\n",
       "</table>\n",
       "</div>"
      ],
      "text/plain": [
       "     PassengerId  Survived  Pclass                                       Name  \\\n",
       "61            62         1       1                        Icard, Miss. Amelie   \n",
       "829          830         1       1  Stone, Mrs. George Nelson (Martha Evelyn)   \n",
       "\n",
       "        Sex   Age  SibSp  Parch  Ticket  Fare Cabin Embarked  \n",
       "61   female  38.0      0      0  113572  80.0   B28      NaN  \n",
       "829  female  62.0      0      0  113572  80.0   B28      NaN  "
      ]
     },
     "execution_count": 15,
     "metadata": {},
     "output_type": "execute_result"
    }
   ],
   "source": [
    "Xtrain[Xtrain['Embarked'].isnull()==True]\n"
   ]
  },
  {
   "cell_type": "code",
   "execution_count": 16,
   "metadata": {},
   "outputs": [
    {
     "data": {
      "image/png": "[encoded data removed]",
      "text/plain": [
       "<Figure size 432x288 with 1 Axes>"
      ]
     },
     "metadata": {
      "needs_background": "light"
     },
     "output_type": "display_data"
    }
   ],
   "source": [
    "sns.countplot(x='Embarked', hue='Survived',data=Xtrain[(Xtrain['Pclass']==1) & (Xtrain['Fare']>=80) & (Xtrain['Cabin'].apply(lambda x: 'B' in x if pd.notnull(x) else False)==True)])\n",
    "#We put Embarked to S for the two missing values as it seems that for their class and fare  most of the people embarked in S.\n",
    "Xtrain['Embarked'].fillna('S', inplace=True)"
   ]
  },
  {
   "cell_type": "code",
   "execution_count": 17,
   "metadata": {},
   "outputs": [],
   "source": [
    "#If Fare is missing get it from the mean for the class\n",
    "Xtest['Fare']=Xtest['Fare'].fillna(Xtest[Xtest['Pclass']==1]['Fare'].mean())"
   ]
  },
  {
   "cell_type": "markdown",
   "metadata": {},
   "source": [
    "### The Nan value for the age\n",
    "To fill the Nan value for the age we will first clean our data and then we will create a model based on \n",
    "'TitleEncoded','Survived','Sex','Fare','SibSp','Parch','Pclass' to estimate the person's age.\n"
   ]
  },
  {
   "cell_type": "code",
   "execution_count": 18,
   "metadata": {},
   "outputs": [],
   "source": [
    "from sklearn import preprocessing\n",
    "from sklearn.preprocessing import LabelEncoder\n",
    "def cleanData(X):\n",
    "\n",
    "    Embarked_dummies=pd.get_dummies(X['Embarked'], drop_first=True)\n",
    "    Sex_dummies=pd.get_dummies(X['Sex'], drop_first=True)\n",
    "    Pclass_dummies=pd.get_dummies(X['Pclass'], drop_first=True)\n",
    "    X=pd.concat([X, Embarked_dummies], axis=1)\n",
    "    X=pd.concat([X, Sex_dummies], axis=1)\n",
    "    X=pd.concat([X, Pclass_dummies], axis=1)\n",
    "    X.drop(['Sex','Embarked','Pclass'], axis=1, inplace=True)\n",
    "    \n",
    "    #Get the title from the name and fill the NA for the age, according to the title of the person\n",
    "    X['Title']=X['Name'].apply(lambda x: re.split('. ',re.split(', ',x)[1])[0]).replace({ 'Jonkheer' : 'Rest', 'th' : 'Rest', 'Capt' : 'Rest','Don': 'Rest', 'Lady': 'Rest', 'Mlle': 'Rest', 'Major': 'Rest', 'Sir': 'Rest','Dona': 'Mrs','Ms': 'Miss','Mme': 'Miss'})\n",
    "  \n",
    "    #Title_dummies=pd.get_dummies(X['Title'], drop_first=True)\n",
    "    #X=pd.concat([X, Title_dummies], axis=1)\n",
    "    label_encoder = LabelEncoder()\n",
    "    X['TitleEncoded'] = label_encoder.fit_transform(X['Title'])\n",
    "    \n",
    "    #X['CabinBool']=X['Cabin'].isna()==False\n",
    "    \n",
    "    X.drop(['Ticket','Name','Cabin','Title'], axis=1, inplace=True)\n",
    "    \n",
    "    X.set_index('PassengerId',inplace=True)\n",
    "    X=X.sort_values(by='PassengerId',axis=0)\n",
    "    return X"
   ]
  },
  {
   "cell_type": "code",
   "execution_count": 19,
   "metadata": {},
   "outputs": [
    {
     "data": {
      "text/html": [
       "<div>\n",
       "<style scoped>\n",
       "    .dataframe tbody tr th:only-of-type {\n",
       "        vertical-align: middle;\n",
       "    }\n",
       "\n",
       "    .dataframe tbody tr th {\n",
       "        vertical-align: top;\n",
       "    }\n",
       "\n",
       "    .dataframe thead th {\n",
       "        text-align: right;\n",
       "    }\n",
       "</style>\n",
       "<table border=\"1\" class=\"dataframe\">\n",
       "  <thead>\n",
       "    <tr style=\"text-align: right;\">\n",
       "      <th></th>\n",
       "      <th>Age</th>\n",
       "      <th>SibSp</th>\n",
       "      <th>Parch</th>\n",
       "      <th>Fare</th>\n",
       "      <th>Q</th>\n",
       "      <th>S</th>\n",
       "      <th>male</th>\n",
       "      <th>2</th>\n",
       "      <th>3</th>\n",
       "      <th>TitleEncoded</th>\n",
       "    </tr>\n",
       "    <tr>\n",
       "      <th>PassengerId</th>\n",
       "      <th></th>\n",
       "      <th></th>\n",
       "      <th></th>\n",
       "      <th></th>\n",
       "      <th></th>\n",
       "      <th></th>\n",
       "      <th></th>\n",
       "      <th></th>\n",
       "      <th></th>\n",
       "      <th></th>\n",
       "    </tr>\n",
       "  </thead>\n",
       "  <tbody>\n",
       "    <tr>\n",
       "      <td>892</td>\n",
       "      <td>34.5</td>\n",
       "      <td>0</td>\n",
       "      <td>0</td>\n",
       "      <td>7.8292</td>\n",
       "      <td>1</td>\n",
       "      <td>0</td>\n",
       "      <td>1</td>\n",
       "      <td>0</td>\n",
       "      <td>1</td>\n",
       "      <td>4</td>\n",
       "    </tr>\n",
       "    <tr>\n",
       "      <td>893</td>\n",
       "      <td>47.0</td>\n",
       "      <td>1</td>\n",
       "      <td>0</td>\n",
       "      <td>7.0000</td>\n",
       "      <td>0</td>\n",
       "      <td>1</td>\n",
       "      <td>0</td>\n",
       "      <td>0</td>\n",
       "      <td>1</td>\n",
       "      <td>5</td>\n",
       "    </tr>\n",
       "    <tr>\n",
       "      <td>894</td>\n",
       "      <td>62.0</td>\n",
       "      <td>0</td>\n",
       "      <td>0</td>\n",
       "      <td>9.6875</td>\n",
       "      <td>1</td>\n",
       "      <td>0</td>\n",
       "      <td>1</td>\n",
       "      <td>1</td>\n",
       "      <td>0</td>\n",
       "      <td>4</td>\n",
       "    </tr>\n",
       "    <tr>\n",
       "      <td>895</td>\n",
       "      <td>27.0</td>\n",
       "      <td>0</td>\n",
       "      <td>0</td>\n",
       "      <td>8.6625</td>\n",
       "      <td>0</td>\n",
       "      <td>1</td>\n",
       "      <td>1</td>\n",
       "      <td>0</td>\n",
       "      <td>1</td>\n",
       "      <td>4</td>\n",
       "    </tr>\n",
       "    <tr>\n",
       "      <td>896</td>\n",
       "      <td>22.0</td>\n",
       "      <td>1</td>\n",
       "      <td>1</td>\n",
       "      <td>12.2875</td>\n",
       "      <td>0</td>\n",
       "      <td>1</td>\n",
       "      <td>0</td>\n",
       "      <td>0</td>\n",
       "      <td>1</td>\n",
       "      <td>5</td>\n",
       "    </tr>\n",
       "    <tr>\n",
       "      <td>...</td>\n",
       "      <td>...</td>\n",
       "      <td>...</td>\n",
       "      <td>...</td>\n",
       "      <td>...</td>\n",
       "      <td>...</td>\n",
       "      <td>...</td>\n",
       "      <td>...</td>\n",
       "      <td>...</td>\n",
       "      <td>...</td>\n",
       "      <td>...</td>\n",
       "    </tr>\n",
       "    <tr>\n",
       "      <td>1305</td>\n",
       "      <td>NaN</td>\n",
       "      <td>0</td>\n",
       "      <td>0</td>\n",
       "      <td>8.0500</td>\n",
       "      <td>0</td>\n",
       "      <td>1</td>\n",
       "      <td>1</td>\n",
       "      <td>0</td>\n",
       "      <td>1</td>\n",
       "      <td>4</td>\n",
       "    </tr>\n",
       "    <tr>\n",
       "      <td>1306</td>\n",
       "      <td>39.0</td>\n",
       "      <td>0</td>\n",
       "      <td>0</td>\n",
       "      <td>108.9000</td>\n",
       "      <td>0</td>\n",
       "      <td>0</td>\n",
       "      <td>0</td>\n",
       "      <td>0</td>\n",
       "      <td>0</td>\n",
       "      <td>5</td>\n",
       "    </tr>\n",
       "    <tr>\n",
       "      <td>1307</td>\n",
       "      <td>38.5</td>\n",
       "      <td>0</td>\n",
       "      <td>0</td>\n",
       "      <td>7.2500</td>\n",
       "      <td>0</td>\n",
       "      <td>1</td>\n",
       "      <td>1</td>\n",
       "      <td>0</td>\n",
       "      <td>1</td>\n",
       "      <td>4</td>\n",
       "    </tr>\n",
       "    <tr>\n",
       "      <td>1308</td>\n",
       "      <td>NaN</td>\n",
       "      <td>0</td>\n",
       "      <td>0</td>\n",
       "      <td>8.0500</td>\n",
       "      <td>0</td>\n",
       "      <td>1</td>\n",
       "      <td>1</td>\n",
       "      <td>0</td>\n",
       "      <td>1</td>\n",
       "      <td>4</td>\n",
       "    </tr>\n",
       "    <tr>\n",
       "      <td>1309</td>\n",
       "      <td>NaN</td>\n",
       "      <td>1</td>\n",
       "      <td>1</td>\n",
       "      <td>22.3583</td>\n",
       "      <td>0</td>\n",
       "      <td>0</td>\n",
       "      <td>1</td>\n",
       "      <td>0</td>\n",
       "      <td>1</td>\n",
       "      <td>2</td>\n",
       "    </tr>\n",
       "  </tbody>\n",
       "</table>\n",
       "<p>418 rows × 10 columns</p>\n",
       "</div>"
      ],
      "text/plain": [
       "              Age  SibSp  Parch      Fare  Q  S  male  2  3  TitleEncoded\n",
       "PassengerId                                                              \n",
       "892          34.5      0      0    7.8292  1  0     1  0  1             4\n",
       "893          47.0      1      0    7.0000  0  1     0  0  1             5\n",
       "894          62.0      0      0    9.6875  1  0     1  1  0             4\n",
       "895          27.0      0      0    8.6625  0  1     1  0  1             4\n",
       "896          22.0      1      1   12.2875  0  1     0  0  1             5\n",
       "...           ...    ...    ...       ... .. ..   ... .. ..           ...\n",
       "1305          NaN      0      0    8.0500  0  1     1  0  1             4\n",
       "1306         39.0      0      0  108.9000  0  0     0  0  0             5\n",
       "1307         38.5      0      0    7.2500  0  1     1  0  1             4\n",
       "1308          NaN      0      0    8.0500  0  1     1  0  1             4\n",
       "1309          NaN      1      1   22.3583  0  0     1  0  1             2\n",
       "\n",
       "[418 rows x 10 columns]"
      ]
     },
     "execution_count": 19,
     "metadata": {},
     "output_type": "execute_result"
    }
   ],
   "source": [
    "Xtrain=cleanData(Xtrain)\n",
    "Xtest=cleanData(Xtest)\n",
    "Xtest"
   ]
  },
  {
   "cell_type": "code",
   "execution_count": 20,
   "metadata": {},
   "outputs": [],
   "source": [
    "\n",
    "from sklearn.preprocessing import StandardScaler\n",
    "from sklearn.linear_model import LinearRegression\n",
    "\n",
    "\n",
    "def predictionAge(X):\n",
    "    Xage=X.loc[:,['Age','TitleEncoded','Survived','male','Fare','SibSp','Parch',2,3]]\n",
    "    Xagetrain=Xage[Xage['Age'].notnull()]\n",
    "    Xageestimate=Xage[Xage['Age'].isnull()]\n",
    "    yagetrain=Xagetrain['Age']   \n",
    "    XagetrainNormalized=Xagetrain.drop(['Age'], axis=1)\n",
    "    XageestimateNormalized=Xageestimate.drop(['Age'], axis=1)\n",
    "    XagetrainNormalized=normalizingData(XagetrainNormalized)\n",
    "    XageestimateNormalized=normalizingData(XageestimateNormalized)\n",
    "    clf = LinearRegression().fit(XagetrainNormalized, yagetrain)\n",
    "    yageestimate=clf.predict(XageestimateNormalized)\n",
    "    yresults=pd.DataFrame(yageestimate, index=Xageestimate.index)\n",
    "    yresults.rename(columns={0:'Age'}, inplace=True)\n",
    "    #print(pd.concat([Xagetrain['Age'],yresults['Age']]).sort_values(axis=1, inplace=True))\n",
    "    Concat=pd.DataFrame(pd.concat([Xagetrain['Age'],yresults['Age']]))\n",
    "    Concat=Concat.sort_values(by='PassengerId')\n",
    "    X['Age']=Concat['Age']\n",
    "    return X\n",
    "\n",
    "def predictionAge2(X,X2):\n",
    "    Xage=X.loc[:,['Age','TitleEncoded','male','Fare','SibSp','Parch',2,3]]\n",
    "    X2age=X2.loc[:,['Age','TitleEncoded','male','Fare','SibSp','Parch',2,3]]\n",
    "    Xagefinal=pd.concat([Xage,X2age])\n",
    "    Xagetrain=Xagefinal[Xagefinal['Age'].notnull()]\n",
    "    Xageestimate=Xage[Xage['Age'].isnull()]\n",
    "    yagetrain=Xagetrain['Age']   \n",
    "    XagetrainNormalized=Xagetrain.drop(['Age'], axis=1)\n",
    "    XageestimateNormalized=Xageestimate.drop(['Age'], axis=1)\n",
    "    XagetrainNormalized=normalizingData(XagetrainNormalized)\n",
    "    XageestimateNormalized=normalizingData(XageestimateNormalized)\n",
    "    clf = LinearRegression().fit(XagetrainNormalized, yagetrain)\n",
    "    yageestimate=clf.predict(XageestimateNormalized)\n",
    "    yresults=pd.DataFrame(yageestimate, index=Xageestimate.index)\n",
    "    yresults.rename(columns={0:'Age'}, inplace=True)\n",
    "    #print(pd.concat([Xagetrain['Age'],yresults['Age']]).sort_values(axis=1, inplace=True))\n",
    "    Concat=pd.DataFrame(pd.concat([Xagetrain['Age'],yresults['Age']]))\n",
    "    Concat=Concat.sort_values(by='PassengerId')\n",
    "    X['Age']=Concat['Age']\n",
    "    return X\n",
    "\n",
    "\n",
    "\n",
    "\n",
    "def normalizingData(X):\n",
    "    scaler = StandardScaler()\n",
    "    scaler.fit(X)\n",
    "    X = scaler.transform(X)\n",
    "    '''X['Age']=(X['Age']-X['Age'].min())/(X['Age'].max()-X['Age'].min())\n",
    "    X['Fare']=(X['Fare']-X['Fare'].min())/(X['Fare'].max()-X['Fare'].min())\n",
    "    X['TitleEncoded']=(X['TitleEncoded']-X['TitleEncoded'].min())/(X['TitleEncoded'].max()-X['TitleEncoded'].min())\n",
    "    X['SibSp']=(X['SibSp']-X['SibSp'].min())/(X['SibSp'].max()-X['SibSp'].min())\n",
    "    X['Parch']=(X['Parch']-X['Parch'].min())/(X['Parch'].max()-X['Parch'].min())'''\n",
    "    return X\n",
    "    \n",
    "    \n",
    "    \n"
   ]
  },
  {
   "cell_type": "code",
   "execution_count": 21,
   "metadata": {},
   "outputs": [],
   "source": [
    "Xtest=predictionAge2(Xtest, Xtrain)\n",
    "Xtrain=predictionAge(Xtrain)\n"
   ]
  },
  {
   "cell_type": "markdown",
   "metadata": {},
   "source": [
    "## The different models for estimating survived field\n",
    "We will try with the clean data we have now to estimate the survived field with a simple logistic regression, then with a polynomial logistic regression of order 2."
   ]
  },
  {
   "cell_type": "markdown",
   "metadata": {},
   "source": [
    "First we split the train data into a train dataset and a testing dataset. 80%-20%"
   ]
  },
  {
   "cell_type": "code",
   "execution_count": 55,
   "metadata": {},
   "outputs": [],
   "source": [
    "if 'Survived' in Xtrain.columns: Xtrain.drop(['Survived'], axis=1, inplace=True)\n",
    "from sklearn.model_selection import train_test_split\n",
    "X_train, X_test, y_train, y_test = train_test_split(Xtrain, ytrain, test_size=0.1, random_state=0)"
   ]
  },
  {
   "cell_type": "markdown",
   "metadata": {},
   "source": [
    "Then we do a logistic regression and check the score"
   ]
  },
  {
   "cell_type": "code",
   "execution_count": 59,
   "metadata": {},
   "outputs": [
    {
     "name": "stdout",
     "output_type": "stream",
     "text": [
      "Score Train: 0.8177278401997503\n",
      "Score Test: 0.8\n"
     ]
    }
   ],
   "source": [
    "from sklearn.linear_model import LogisticRegression\n",
    "X_train=normalizingData(X_train)\n",
    "X_test=normalizingData(X_test)\n",
    "XtestNormalized=normalizingData(Xtest)\n",
    "clf = LogisticRegression(solver='liblinear',random_state=0, max_iter=200).fit(X_train, y_train.values.ravel())\n",
    "print('Score Train: '+str(clf.score(X_train, y_train)))\n",
    "print('Score Test: '+str(clf.score(X_test, y_test)))\n",
    "\n"
   ]
  },
  {
   "cell_type": "code",
   "execution_count": 60,
   "metadata": {},
   "outputs": [
    {
     "name": "stdout",
     "output_type": "stream",
     "text": [
      "              precision    recall  f1-score   support\n",
      "\n",
      "           0       0.79      0.88      0.83        51\n",
      "           1       0.82      0.69      0.75        39\n",
      "\n",
      "    accuracy                           0.80        90\n",
      "   macro avg       0.80      0.79      0.79        90\n",
      "weighted avg       0.80      0.80      0.80        90\n",
      "\n"
     ]
    }
   ],
   "source": [
    "from sklearn.metrics import classification_report\n",
    "print(classification_report(y_test, clf.predict(X_test)))"
   ]
  },
  {
   "cell_type": "markdown",
   "metadata": {},
   "source": [
    "Then we do a polynomial logistic regression and check the score"
   ]
  },
  {
   "cell_type": "code",
   "execution_count": 57,
   "metadata": {},
   "outputs": [],
   "source": [
    "#Trying polynomial features\n",
    "from sklearn.preprocessing import PolynomialFeatures\n",
    "poly = PolynomialFeatures(2)\n",
    "X_poly=poly.fit_transform(X_train)\n",
    "clf3=LogisticRegression(solver='liblinear', max_iter=200).fit(X_poly,y_train.values.ravel())\n",
    "X_polytest=poly.fit_transform(X_test)"
   ]
  },
  {
   "cell_type": "code",
   "execution_count": 62,
   "metadata": {},
   "outputs": [
    {
     "name": "stdout",
     "output_type": "stream",
     "text": [
      "Score on the training data is:  0.850187265917603\n",
      "Score on the testing data is:  0.8222222222222222\n"
     ]
    }
   ],
   "source": [
    "print('Score on the training data is: ',clf3.score(X_poly, y_train))\n",
    "print('Score on the testing data is: ',clf3.score(X_polytest, y_test))\n",
    "X_polyfinaltest=poly.fit_transform(XtestNormalized)"
   ]
  },
  {
   "cell_type": "code",
   "execution_count": 27,
   "metadata": {},
   "outputs": [
    {
     "name": "stdout",
     "output_type": "stream",
     "text": [
      "Fitting 5 folds for each of 90 candidates, totalling 450 fits\n"
     ]
    },
    {
     "name": "stderr",
     "output_type": "stream",
     "text": [
      "[Parallel(n_jobs=-1)]: Using backend LokyBackend with 4 concurrent workers.\n",
      "[Parallel(n_jobs=-1)]: Done  46 tasks      | elapsed:    5.1s\n",
      "[Parallel(n_jobs=-1)]: Done 450 out of 450 | elapsed:   20.8s finished\n",
      "C:\\Users\\jc\\Anaconda3\\lib\\site-packages\\sklearn\\pipeline.py:356: DataConversionWarning: A column-vector y was passed when a 1d array was expected. Please change the shape of y to (n_samples,), for example using ravel().\n",
      "  self._final_estimator.fit(Xt, y, **fit_params)\n"
     ]
    }
   ],
   "source": [
    "from sklearn.pipeline import Pipeline\n",
    "from sklearn.ensemble import RandomForestClassifier\n",
    "from sklearn.model_selection import GridSearchCV\n",
    "\n",
    "pipe = Pipeline([('classifier' , RandomForestClassifier())])\n",
    "\n",
    "# Create param grid.\n",
    "\n",
    "param_grid = [\n",
    "    {'classifier' : [LogisticRegression()],\n",
    "     'classifier__penalty' : ['l1', 'l2'],\n",
    "    'classifier__C' : np.logspace(-4, 4, 20),\n",
    "    'classifier__solver' : ['liblinear']},\n",
    "    {'classifier' : [RandomForestClassifier()],\n",
    "    'classifier__n_estimators' : list(range(10,101,10)),\n",
    "    'classifier__max_features' : list(range(6,11,1))}\n",
    "]\n",
    "\n",
    "# Create grid search object\n",
    "\n",
    "clfgrid = GridSearchCV(pipe, param_grid = param_grid, cv = 5, verbose=True, n_jobs=-1)\n",
    "\n",
    "# Fit on data\n",
    "\n",
    "best_clf = clfgrid.fit(X_train, y_train)"
   ]
  },
  {
   "cell_type": "code",
   "execution_count": 28,
   "metadata": {},
   "outputs": [
    {
     "name": "stdout",
     "output_type": "stream",
     "text": [
      "Score Train: 0.9900124843945068\n",
      "Score Test: 0.8\n"
     ]
    }
   ],
   "source": [
    "print('Score Train: '+str(best_clf.score(X_train, y_train)))\n",
    "print('Score Test: '+str(best_clf.score(X_test, y_test)))"
   ]
  },
  {
   "cell_type": "code",
   "execution_count": 29,
   "metadata": {},
   "outputs": [],
   "source": [
    "prediction=clf3.predict(X_polyfinaltest)\n"
   ]
  },
  {
   "cell_type": "code",
   "execution_count": 30,
   "metadata": {},
   "outputs": [],
   "source": [
    "yfinal=pd.DataFrame()\n",
    "yfinal['PassengerId']=Xtest.index\n",
    "yfinal['Survived']=prediction\n",
    "yfinal.to_csv('Results.csv',index=False)\n",
    "\n",
    "\n"
   ]
  },
  {
   "cell_type": "markdown",
   "metadata": {},
   "source": [
    "## Conclusion\n",
    "After cleaning the data, creating some new features and using a polynomial logistic regression we could estimate the people that survived for the titanic with an accuracy of 80%. "
   ]
  },
  {
   "cell_type": "code",
   "execution_count": null,
   "metadata": {},
   "outputs": [],
   "source": []
  }
 ],
 "metadata": {
  "kernelspec": {
   "display_name": "Python 3",
   "language": "python",
   "name": "python3"
  },
  "language_info": {
   "codemirror_mode": {
    "name": "ipython",
    "version": 3
   },
   "file_extension": ".py",
   "mimetype": "text/x-python",
   "name": "python",
   "nbconvert_exporter": "python",
   "pygments_lexer": "ipython3",
   "version": "3.7.3"
  }
 },
 "nbformat": 4,
 "nbformat_minor": 2
}
